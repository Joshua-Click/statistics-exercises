{
 "cells": [
  {
   "cell_type": "code",
   "execution_count": 87,
   "metadata": {},
   "outputs": [],
   "source": [
    "%matplotlib inline\n",
    "import numpy as np\n",
    "import pandas as pd\n",
    "\n",
    "\n",
    "\n",
    "np.random.seed(29)"
   ]
  },
  {
   "cell_type": "code",
   "execution_count": null,
   "metadata": {},
   "outputs": [],
   "source": []
  },
  {
   "cell_type": "markdown",
   "metadata": {},
   "source": [
    "1. How likely is it that you roll doubles when rolling two dice?"
   ]
  },
  {
   "cell_type": "code",
   "execution_count": 88,
   "metadata": {},
   "outputs": [],
   "source": [
    "# Set up for 2 dice w/ 10000 trial for getting doubles\n",
    "n_dice = 2\n",
    "n_trials = 10000\n",
    "dice = [1,2,3,4,5,6]\n",
    "doubles_rand = np.random.choice(dice,(n_trials, n_dice))"
   ]
  },
  {
   "cell_type": "code",
   "execution_count": 113,
   "metadata": {},
   "outputs": [
    {
     "data": {
      "text/plain": [
       "array([[6, 4],\n",
       "       [5, 6],\n",
       "       [3, 1],\n",
       "       [1, 2],\n",
       "       [2, 1],\n",
       "       [6, 4],\n",
       "       [2, 1],\n",
       "       [2, 4],\n",
       "       [4, 6],\n",
       "       [5, 1],\n",
       "       [5, 3],\n",
       "       [3, 4],\n",
       "       [1, 3],\n",
       "       [4, 1],\n",
       "       [4, 4],\n",
       "       [5, 3],\n",
       "       [6, 6],\n",
       "       [5, 5],\n",
       "       [1, 3],\n",
       "       [1, 3],\n",
       "       [5, 3],\n",
       "       [1, 2],\n",
       "       [4, 2],\n",
       "       [5, 2],\n",
       "       [4, 5],\n",
       "       [5, 4],\n",
       "       [5, 6],\n",
       "       [4, 2],\n",
       "       [1, 4],\n",
       "       [5, 3],\n",
       "       [4, 5],\n",
       "       [4, 5],\n",
       "       [1, 1],\n",
       "       [5, 6],\n",
       "       [4, 3],\n",
       "       [1, 4],\n",
       "       [4, 5],\n",
       "       [5, 4],\n",
       "       [5, 6],\n",
       "       [6, 3],\n",
       "       [2, 2],\n",
       "       [5, 5],\n",
       "       [2, 5],\n",
       "       [4, 5],\n",
       "       [2, 2],\n",
       "       [1, 1],\n",
       "       [5, 3],\n",
       "       [2, 4],\n",
       "       [6, 2],\n",
       "       [3, 2]])"
      ]
     },
     "execution_count": 113,
     "metadata": {},
     "output_type": "execute_result"
    }
   ],
   "source": [
    "doubles_rand[:50,:]"
   ]
  },
  {
   "cell_type": "code",
   "execution_count": 116,
   "metadata": {},
   "outputs": [
    {
     "data": {
      "text/plain": [
       "0.1709"
      ]
     },
     "execution_count": 116,
     "metadata": {},
     "output_type": "execute_result"
    }
   ],
   "source": [
    "# dice1 needs to = dice 2 \n",
    "(doubles_rand[ : , 0] == doubles_rand[ : , 1]).sum() / len(doubles_rand)"
   ]
  },
  {
   "cell_type": "markdown",
   "metadata": {},
   "source": [
    "2. If you flip 8 coins, what is the probability of getting exactly 3 heads? What is the probability of getting more than 3 heads?\n",
    "\n"
   ]
  },
  {
   "cell_type": "code",
   "execution_count": null,
   "metadata": {},
   "outputs": [],
   "source": [
    "outcomes = ['H','T']\n",
    "n_trials = 8\n",
    "n_sim = 10_000\n",
    "eight_flips = np.random.choice(outcomes, (n_sim, n_trials))"
   ]
  },
  {
   "cell_type": "code",
   "execution_count": null,
   "metadata": {},
   "outputs": [
    {
     "data": {
      "text/plain": [
       "array([['H', 'T', 'T', 'H', 'T', 'H', 'H', 'T'],\n",
       "       ['H', 'T', 'T', 'H', 'T', 'H', 'T', 'H'],\n",
       "       ['T', 'H', 'H', 'H', 'T', 'H', 'T', 'H'],\n",
       "       ['T', 'H', 'H', 'H', 'T', 'H', 'T', 'H'],\n",
       "       ['H', 'T', 'T', 'H', 'T', 'H', 'T', 'T'],\n",
       "       ['T', 'T', 'H', 'H', 'H', 'T', 'T', 'T'],\n",
       "       ['T', 'H', 'T', 'H', 'H', 'H', 'H', 'H'],\n",
       "       ['H', 'H', 'H', 'H', 'H', 'T', 'H', 'T'],\n",
       "       ['T', 'T', 'T', 'H', 'H', 'T', 'H', 'H'],\n",
       "       ['H', 'T', 'T', 'H', 'H', 'H', 'H', 'T']], dtype='<U1')"
      ]
     },
     "execution_count": 11,
     "metadata": {},
     "output_type": "execute_result"
    }
   ],
   "source": [
    "eight_flips[:10,:]"
   ]
  },
  {
   "cell_type": "code",
   "execution_count": null,
   "metadata": {},
   "outputs": [
    {
     "data": {
      "text/plain": [
       "0.2234"
      ]
     },
     "execution_count": 15,
     "metadata": {},
     "output_type": "execute_result"
    }
   ],
   "source": [
    "# Prob for exactly 3 Heads\n",
    "(eight_flips == 'H').sum(axis=1)\n",
    "((eight_flips == 'H').sum(axis=1) == 3).sum() / n_sim"
   ]
  },
  {
   "cell_type": "code",
   "execution_count": 159,
   "metadata": {},
   "outputs": [
    {
     "data": {
      "text/plain": [
       "0.6297"
      ]
     },
     "execution_count": 159,
     "metadata": {},
     "output_type": "execute_result"
    }
   ],
   "source": [
    "# Prob for more than 3 heads\n",
    "((eight_flips == 'H').sum(axis=1) > 3).mean()"
   ]
  },
  {
   "cell_type": "markdown",
   "metadata": {},
   "source": [
    "3. There are approximitely 3 web development cohorts for every 1 data science cohort at Codeup. Assuming that Codeup randomly selects an alumni to put on a billboard, what are the odds that the two billboards I drive past both have data science students on them?\n",
    "\n"
   ]
  },
  {
   "cell_type": "code",
   "execution_count": 124,
   "metadata": {},
   "outputs": [],
   "source": [
    "# 3 web\n",
    "# 1 data\n",
    "# assume that the class sizes are all the same and there will be a 1/4 chance 1 student is data \n",
    "# so use the rand.rand\n",
    "da_to_web = (1/4)\n",
    "billboards = 2\n",
    "n_simulate = 10000\n",
    "class_data = np.random.random((n_simulate, billboards))\n",
    "\n",
    "# 2 bill boards"
   ]
  },
  {
   "cell_type": "code",
   "execution_count": 125,
   "metadata": {},
   "outputs": [
    {
     "data": {
      "text/plain": [
       "array([[0.66834509, 0.1398444 ],\n",
       "       [0.46976151, 0.2027028 ],\n",
       "       [0.57696501, 0.09672286],\n",
       "       [0.93738638, 0.99032298],\n",
       "       [0.18198562, 0.484098  ],\n",
       "       [0.4912944 , 0.73486494],\n",
       "       [0.98562077, 0.85071113],\n",
       "       [0.3678945 , 0.99478093],\n",
       "       [0.87062088, 0.20005653],\n",
       "       [0.28297348, 0.42141238]])"
      ]
     },
     "execution_count": 125,
     "metadata": {},
     "output_type": "execute_result"
    }
   ],
   "source": [
    "class_data[:10, :]"
   ]
  },
  {
   "cell_type": "code",
   "execution_count": 126,
   "metadata": {},
   "outputs": [],
   "source": [
    "# chances 1 billboard would be 1 in 3 chance\n",
    "one_in_three = (class_data < da_to_web)"
   ]
  },
  {
   "cell_type": "code",
   "execution_count": 127,
   "metadata": {},
   "outputs": [
    {
     "data": {
      "text/plain": [
       "0.0617"
      ]
     },
     "execution_count": 127,
     "metadata": {},
     "output_type": "execute_result"
    }
   ],
   "source": [
    "# 2 data 2 board\n",
    "((one_in_three.sum(axis=1)) == 2).mean()"
   ]
  },
  {
   "cell_type": "markdown",
   "metadata": {},
   "source": [
    "4. Codeup students buy, on average, 3 poptart packages with a standard deviation of 1.5 a day from the snack vending machine. If on monday the machine is restocked with 17 poptart packages, how likely is it that I will be able to buy some poptarts on Friday afternoon? (Remember, if you have mean and standard deviation, use the np.random.normal) You'll need to make a judgement call on how to handle some of your values\n",
    "\n"
   ]
  },
  {
   "cell_type": "code",
   "execution_count": 131,
   "metadata": {},
   "outputs": [],
   "source": [
    "poptarts_mean = 3\n",
    "pt_sd = 1.5\n",
    "poptart_stock = 17\n",
    "days = 5\n",
    "pop_trials = 10000\n",
    "sim_pop = np.random.normal(poptarts_mean, pt_sd, (pop_trials,days))\n"
   ]
  },
  {
   "cell_type": "code",
   "execution_count": 132,
   "metadata": {},
   "outputs": [
    {
     "data": {
      "text/plain": [
       "array([[4.37406252, 5.13519261, 3.72211954, 4.44408751, 4.62844519],\n",
       "       [3.98309086, 2.10136225, 1.417232  , 4.15966833, 3.31157788],\n",
       "       [2.91198814, 4.74343989, 2.30524799, 5.468778  , 2.26643154],\n",
       "       ...,\n",
       "       [2.96997472, 2.96741343, 4.90496731, 1.79594542, 1.20379045],\n",
       "       [0.37084892, 2.06239395, 1.24932164, 2.6056558 , 4.64910623],\n",
       "       [4.56340581, 3.95739351, 4.8681438 , 1.74679025, 2.3085685 ]])"
      ]
     },
     "execution_count": 132,
     "metadata": {},
     "output_type": "execute_result"
    }
   ],
   "source": [
    "sim_pop\n"
   ]
  },
  {
   "cell_type": "code",
   "execution_count": 134,
   "metadata": {},
   "outputs": [
    {
     "data": {
      "text/plain": [
       "0.6203"
      ]
     },
     "execution_count": 134,
     "metadata": {},
     "output_type": "execute_result"
    }
   ],
   "source": [
    "(sim_pop.sum(axis=1) < 16).mean()"
   ]
  },
  {
   "cell_type": "markdown",
   "metadata": {},
   "source": [
    "5. Compare Heights\n",
    "\n",
    "    * Men have an average height of 178 cm and standard deviation of 8cm.\n",
    "    * Women have a mean of 170, sd = 6cm.\n",
    "    * Since you have means and standard deviations, you can use np.random.normal to generate observations.\n",
    "    * If a man and woman are chosen at random, what is the likelihood the woman is taller than the man?\n",
    "\n"
   ]
  },
  {
   "cell_type": "code",
   "execution_count": 135,
   "metadata": {},
   "outputs": [],
   "source": [
    "men_ht_mean = 178\n",
    "men_sd = 8\n",
    "women_ht_mean = 170\n",
    "women_sd = 6\n",
    "mw_trials = 10000\n",
    "\n",
    "men_dist = np.random.normal(men_ht_mean, men_sd, mw_trials)\n",
    "\n",
    "women_dist = np.random.normal(women_ht_mean, women_sd, mw_trials)"
   ]
  },
  {
   "cell_type": "code",
   "execution_count": 136,
   "metadata": {},
   "outputs": [
    {
     "data": {
      "text/plain": [
       "array([166.90248178, 173.0875921 , 167.27294829, ..., 178.30686779,\n",
       "       166.7027939 , 171.48917168])"
      ]
     },
     "execution_count": 136,
     "metadata": {},
     "output_type": "execute_result"
    }
   ],
   "source": [
    "men_dist"
   ]
  },
  {
   "cell_type": "code",
   "execution_count": 137,
   "metadata": {},
   "outputs": [
    {
     "data": {
      "text/plain": [
       "array([168.50315997, 177.23192323, 167.38617557, ..., 181.53077114,\n",
       "       171.30036012, 176.56450324])"
      ]
     },
     "execution_count": 137,
     "metadata": {},
     "output_type": "execute_result"
    }
   ],
   "source": [
    "women_dist"
   ]
  },
  {
   "cell_type": "code",
   "execution_count": 139,
   "metadata": {},
   "outputs": [
    {
     "data": {
      "text/plain": [
       "0.2106"
      ]
     },
     "execution_count": 139,
     "metadata": {},
     "output_type": "execute_result"
    }
   ],
   "source": [
    "tall_women = (women_dist > men_dist).mean()\n",
    "\n",
    "tall_women"
   ]
  },
  {
   "cell_type": "markdown",
   "metadata": {},
   "source": [
    "6. When installing anaconda on a student's computer, there's a 1 in 250 chance that the download is corrupted and the installation fails. \n",
    "\n",
    "    What are the odds that after having 50 students download anaconda, no one has an installation issue? 100 students?\n",
    "\n",
    "    What is the probability that we observe an installation issue within the first 150 students that download anaconda?\n",
    "\n",
    "    How likely is it that 450 students all download anaconda without an issue?\n",
    "\n"
   ]
  },
  {
   "cell_type": "code",
   "execution_count": 141,
   "metadata": {},
   "outputs": [],
   "source": [
    "\n",
    "cor_file = (1/250)\n",
    "stud_install = 50\n",
    "sim_it = 10000"
   ]
  },
  {
   "cell_type": "code",
   "execution_count": 143,
   "metadata": {},
   "outputs": [
    {
     "data": {
      "text/plain": [
       "array([[0.06181718, 0.88549899, 0.97391858, ..., 0.37055129, 0.92775203,\n",
       "        0.0121313 ],\n",
       "       [0.27827437, 0.57183658, 0.95498639, ..., 0.84028451, 0.36940841,\n",
       "        0.18186932],\n",
       "       [0.04490671, 0.91396357, 0.79858949, ..., 0.77639627, 0.29456235,\n",
       "        0.21101567],\n",
       "       ...,\n",
       "       [0.8868487 , 0.97358129, 0.62837971, ..., 0.87625161, 0.47145096,\n",
       "        0.32613679],\n",
       "       [0.79286023, 0.85789865, 0.38192886, ..., 0.06834522, 0.39387962,\n",
       "        0.96579718],\n",
       "       [0.79164901, 0.7007984 , 0.24547015, ..., 0.49053384, 0.57003985,\n",
       "        0.38238719]])"
      ]
     },
     "execution_count": 143,
     "metadata": {},
     "output_type": "execute_result"
    }
   ],
   "source": [
    "break_sim = np.random.random((sim_it, stud_install))\n",
    "break_sim"
   ]
  },
  {
   "cell_type": "code",
   "execution_count": 150,
   "metadata": {},
   "outputs": [
    {
     "data": {
      "text/plain": [
       "0.8121"
      ]
     },
     "execution_count": 150,
     "metadata": {},
     "output_type": "execute_result"
    }
   ],
   "source": [
    "# for 50\n",
    "x = ((break_sim < cor_file).sum(axis=1) == 0).mean()\n",
    "x"
   ]
  },
  {
   "cell_type": "code",
   "execution_count": 152,
   "metadata": {},
   "outputs": [
    {
     "data": {
      "text/plain": [
       "array([[0.14426544, 0.18615367, 0.27268491, ..., 0.13918057, 0.71148432,\n",
       "        0.76387035],\n",
       "       [0.49290109, 0.58767682, 0.65900136, ..., 0.38736913, 0.98057954,\n",
       "        0.46567203],\n",
       "       [0.5416368 , 0.83677487, 0.21192255, ..., 0.48094516, 0.97584337,\n",
       "        0.76543858],\n",
       "       ...,\n",
       "       [0.98317967, 0.91576204, 0.29704248, ..., 0.32926026, 0.21396915,\n",
       "        0.14509016],\n",
       "       [0.87177019, 0.02700704, 0.72319156, ..., 0.41334682, 0.65969398,\n",
       "        0.14051053],\n",
       "       [0.84291916, 0.7787009 , 0.24247815, ..., 0.98470024, 0.17868054,\n",
       "        0.76027043]])"
      ]
     },
     "execution_count": 152,
     "metadata": {},
     "output_type": "execute_result"
    }
   ],
   "source": [
    "cor_file = (1/250)\n",
    "stud_install = 100\n",
    "sim_it = 10000\n",
    "break_sim = np.random.random((sim_it, stud_install))\n",
    "break_sim"
   ]
  },
  {
   "cell_type": "code",
   "execution_count": 153,
   "metadata": {},
   "outputs": [
    {
     "data": {
      "text/plain": [
       "0.6599"
      ]
     },
     "execution_count": 153,
     "metadata": {},
     "output_type": "execute_result"
    }
   ],
   "source": [
    "# for 100\n",
    "x = ((break_sim < cor_file).sum(axis=1) == 0).mean()\n",
    "x"
   ]
  },
  {
   "cell_type": "code",
   "execution_count": 154,
   "metadata": {},
   "outputs": [
    {
     "data": {
      "text/plain": [
       "array([[0.95921308, 0.29493333, 0.29138318, ..., 0.5438318 , 0.15619806,\n",
       "        0.08426421],\n",
       "       [0.4008301 , 0.42233391, 0.9408175 , ..., 0.74230959, 0.23415865,\n",
       "        0.06270295],\n",
       "       [0.5213703 , 0.34861485, 0.42207503, ..., 0.34690592, 0.84860346,\n",
       "        0.90792692],\n",
       "       ...,\n",
       "       [0.62185358, 0.65366083, 0.77741873, ..., 0.48245334, 0.96973916,\n",
       "        0.03419917],\n",
       "       [0.95769587, 0.15584295, 0.32571134, ..., 0.41684609, 0.21531651,\n",
       "        0.0246758 ],\n",
       "       [0.36069274, 0.60129513, 0.9452029 , ..., 0.51767037, 0.95236781,\n",
       "        0.97212751]])"
      ]
     },
     "execution_count": 154,
     "metadata": {},
     "output_type": "execute_result"
    }
   ],
   "source": [
    "cor_file = (1/250)\n",
    "stud_install = 150\n",
    "sim_it = 10000\n",
    "break_sim = np.random.random((sim_it, stud_install))\n",
    "break_sim"
   ]
  },
  {
   "cell_type": "code",
   "execution_count": 155,
   "metadata": {},
   "outputs": [
    {
     "data": {
      "text/plain": [
       "0.453"
      ]
     },
     "execution_count": 155,
     "metadata": {},
     "output_type": "execute_result"
    }
   ],
   "source": [
    "# for 150\n",
    "x = ((break_sim < cor_file).sum(axis=1) >= 1).mean()\n",
    "x"
   ]
  },
  {
   "cell_type": "code",
   "execution_count": 160,
   "metadata": {},
   "outputs": [
    {
     "data": {
      "text/plain": [
       "array([[0.37078576, 0.08715344, 0.35111866, ..., 0.1419117 , 0.28995559,\n",
       "        0.45442556],\n",
       "       [0.54456133, 0.02686159, 0.43265305, ..., 0.52810377, 0.59711069,\n",
       "        0.65129446],\n",
       "       [0.92854716, 0.75328268, 0.72721812, ..., 0.26460768, 0.22822682,\n",
       "        0.77632731],\n",
       "       ...,\n",
       "       [0.46642711, 0.85345337, 0.52651358, ..., 0.61471056, 0.11867983,\n",
       "        0.84598706],\n",
       "       [0.15835532, 0.69830555, 0.57380977, ..., 0.59820453, 0.70791611,\n",
       "        0.39567358],\n",
       "       [0.85854234, 0.43771093, 0.61266683, ..., 0.33592772, 0.97068353,\n",
       "        0.8027623 ]])"
      ]
     },
     "execution_count": 160,
     "metadata": {},
     "output_type": "execute_result"
    }
   ],
   "source": [
    "cor_file = (1/250)\n",
    "stud_install = 450\n",
    "sim_it = 10000\n",
    "break_sim = np.random.random((sim_it, stud_install))\n",
    "break_sim"
   ]
  },
  {
   "cell_type": "code",
   "execution_count": 161,
   "metadata": {},
   "outputs": [
    {
     "data": {
      "text/plain": [
       "0.1725"
      ]
     },
     "execution_count": 161,
     "metadata": {},
     "output_type": "execute_result"
    }
   ],
   "source": [
    "# for 450\n",
    "x = ((break_sim < cor_file).sum(axis=1) == 0).mean()\n",
    "x"
   ]
  },
  {
   "cell_type": "markdown",
   "metadata": {},
   "source": [
    "7. There's a 70% chance on any given day that there will be at least one food truck at Travis Park. However, you haven't seen a food truck there in 3 days. How unlikely is this?\n",
    "\n",
    "How likely is it that a food truck will show up sometime this week?\n",
    "\n"
   ]
  },
  {
   "cell_type": "code",
   "execution_count": 162,
   "metadata": {},
   "outputs": [],
   "source": [
    "# food truck .7 any day\n",
    "# no truck 3\n",
    "# shows up within the week  \n",
    "truck_prob = .7\n",
    "outcomes = ['truck', 'no_truck']\n",
    "n_trials = 3\n",
    "n_sim = 10000\n",
    "truck_sim = np.random.choice(outcomes, size=(n_sim, n_trials), p=(.7,.3))"
   ]
  },
  {
   "cell_type": "code",
   "execution_count": 164,
   "metadata": {},
   "outputs": [
    {
     "data": {
      "text/plain": [
       "0.0283"
      ]
     },
     "execution_count": 164,
     "metadata": {},
     "output_type": "execute_result"
    }
   ],
   "source": [
    "# how likely that truck is gone past 3 days\n",
    "((truck_sim == 'truck').sum(axis=1) == 0).mean()"
   ]
  },
  {
   "cell_type": "code",
   "execution_count": 165,
   "metadata": {},
   "outputs": [
    {
     "data": {
      "text/plain": [
       "0.9717"
      ]
     },
     "execution_count": 165,
     "metadata": {},
     "output_type": "execute_result"
    }
   ],
   "source": [
    "# how likely is it going to show up\n",
    "((truck_sim == 'truck').sum(axis=1) > 0).mean()"
   ]
  },
  {
   "cell_type": "markdown",
   "metadata": {},
   "source": [
    "8. If 23 people are in the same room, what are the odds that two of them share a birthday? What if it's 20 people? 40?\n",
    "\n",
    "Be sure to add, commit, and push your work.\n",
    "\n"
   ]
  },
  {
   "cell_type": "code",
   "execution_count": 122,
   "metadata": {},
   "outputs": [
    {
     "data": {
      "text/plain": [
       "0.5072972343239855"
      ]
     },
     "execution_count": 122,
     "metadata": {},
     "output_type": "execute_result"
    }
   ],
   "source": [
    "def b_day(n):\n",
    "    not_bday = 1\n",
    "    i = 0\n",
    "    while ( n >= 1):\n",
    "        not_bday = not_bday*(365 - i)/365\n",
    "        n = n - 1\n",
    "        i = i + 1\n",
    "    share_bday = 1 - not_bday\n",
    "    return share_bday\n",
    "\n",
    "birthday_problem(23)"
   ]
  },
  {
   "cell_type": "code",
   "execution_count": 119,
   "metadata": {},
   "outputs": [
    {
     "data": {
      "text/plain": [
       "0.41143838358058016"
      ]
     },
     "execution_count": 119,
     "metadata": {},
     "output_type": "execute_result"
    }
   ],
   "source": [
    "birthday_problem(20)"
   ]
  },
  {
   "cell_type": "code",
   "execution_count": 120,
   "metadata": {},
   "outputs": [
    {
     "data": {
      "text/plain": [
       "0.891231809817949"
      ]
     },
     "execution_count": 120,
     "metadata": {},
     "output_type": "execute_result"
    }
   ],
   "source": [
    "birthday_problem(40)"
   ]
  },
  {
   "cell_type": "code",
   "execution_count": 171,
   "metadata": {},
   "outputs": [],
   "source": [
    "#[n for n in range(1,366)]\n",
    "n_trials = 23\n",
    "n_sims = 10000\n",
    "b_day_sim = np.random.choice(range(365), size=(n_sims, n_trials))"
   ]
  },
  {
   "cell_type": "code",
   "execution_count": 172,
   "metadata": {},
   "outputs": [
    {
     "data": {
      "text/plain": [
       "array([[145, 114, 360, ...,  21,  34,  72],\n",
       "       [239, 192, 337, ...,  70, 341, 196],\n",
       "       [ 16, 194,  85, ..., 117,  20,  14],\n",
       "       ...,\n",
       "       [364,  27, 175, ..., 204, 251,  67],\n",
       "       [234,  71,  48, ..., 318, 262, 332],\n",
       "       [108, 147, 108, ..., 201,  54, 117]])"
      ]
     },
     "execution_count": 172,
     "metadata": {},
     "output_type": "execute_result"
    }
   ],
   "source": [
    "b_day_sim"
   ]
  },
  {
   "cell_type": "code",
   "execution_count": 174,
   "metadata": {},
   "outputs": [
    {
     "data": {
      "text/html": [
       "<div>\n",
       "<style scoped>\n",
       "    .dataframe tbody tr th:only-of-type {\n",
       "        vertical-align: middle;\n",
       "    }\n",
       "\n",
       "    .dataframe tbody tr th {\n",
       "        vertical-align: top;\n",
       "    }\n",
       "\n",
       "    .dataframe thead th {\n",
       "        text-align: right;\n",
       "    }\n",
       "</style>\n",
       "<table border=\"1\" class=\"dataframe\">\n",
       "  <thead>\n",
       "    <tr style=\"text-align: right;\">\n",
       "      <th></th>\n",
       "      <th>0</th>\n",
       "      <th>1</th>\n",
       "      <th>2</th>\n",
       "      <th>3</th>\n",
       "      <th>4</th>\n",
       "      <th>5</th>\n",
       "      <th>6</th>\n",
       "      <th>7</th>\n",
       "      <th>8</th>\n",
       "      <th>9</th>\n",
       "      <th>...</th>\n",
       "      <th>13</th>\n",
       "      <th>14</th>\n",
       "      <th>15</th>\n",
       "      <th>16</th>\n",
       "      <th>17</th>\n",
       "      <th>18</th>\n",
       "      <th>19</th>\n",
       "      <th>20</th>\n",
       "      <th>21</th>\n",
       "      <th>22</th>\n",
       "    </tr>\n",
       "  </thead>\n",
       "  <tbody>\n",
       "    <tr>\n",
       "      <th>0</th>\n",
       "      <td>145</td>\n",
       "      <td>114</td>\n",
       "      <td>360</td>\n",
       "      <td>304</td>\n",
       "      <td>87</td>\n",
       "      <td>99</td>\n",
       "      <td>255</td>\n",
       "      <td>329</td>\n",
       "      <td>180</td>\n",
       "      <td>46</td>\n",
       "      <td>...</td>\n",
       "      <td>206</td>\n",
       "      <td>209</td>\n",
       "      <td>128</td>\n",
       "      <td>226</td>\n",
       "      <td>62</td>\n",
       "      <td>320</td>\n",
       "      <td>69</td>\n",
       "      <td>21</td>\n",
       "      <td>34</td>\n",
       "      <td>72</td>\n",
       "    </tr>\n",
       "    <tr>\n",
       "      <th>1</th>\n",
       "      <td>239</td>\n",
       "      <td>192</td>\n",
       "      <td>337</td>\n",
       "      <td>325</td>\n",
       "      <td>205</td>\n",
       "      <td>256</td>\n",
       "      <td>97</td>\n",
       "      <td>130</td>\n",
       "      <td>186</td>\n",
       "      <td>218</td>\n",
       "      <td>...</td>\n",
       "      <td>224</td>\n",
       "      <td>207</td>\n",
       "      <td>202</td>\n",
       "      <td>96</td>\n",
       "      <td>329</td>\n",
       "      <td>7</td>\n",
       "      <td>299</td>\n",
       "      <td>70</td>\n",
       "      <td>341</td>\n",
       "      <td>196</td>\n",
       "    </tr>\n",
       "    <tr>\n",
       "      <th>2</th>\n",
       "      <td>16</td>\n",
       "      <td>194</td>\n",
       "      <td>85</td>\n",
       "      <td>243</td>\n",
       "      <td>133</td>\n",
       "      <td>145</td>\n",
       "      <td>111</td>\n",
       "      <td>23</td>\n",
       "      <td>212</td>\n",
       "      <td>337</td>\n",
       "      <td>...</td>\n",
       "      <td>166</td>\n",
       "      <td>99</td>\n",
       "      <td>213</td>\n",
       "      <td>239</td>\n",
       "      <td>136</td>\n",
       "      <td>68</td>\n",
       "      <td>10</td>\n",
       "      <td>117</td>\n",
       "      <td>20</td>\n",
       "      <td>14</td>\n",
       "    </tr>\n",
       "    <tr>\n",
       "      <th>3</th>\n",
       "      <td>242</td>\n",
       "      <td>113</td>\n",
       "      <td>82</td>\n",
       "      <td>209</td>\n",
       "      <td>138</td>\n",
       "      <td>105</td>\n",
       "      <td>113</td>\n",
       "      <td>311</td>\n",
       "      <td>346</td>\n",
       "      <td>103</td>\n",
       "      <td>...</td>\n",
       "      <td>71</td>\n",
       "      <td>41</td>\n",
       "      <td>35</td>\n",
       "      <td>291</td>\n",
       "      <td>199</td>\n",
       "      <td>208</td>\n",
       "      <td>339</td>\n",
       "      <td>299</td>\n",
       "      <td>38</td>\n",
       "      <td>258</td>\n",
       "    </tr>\n",
       "    <tr>\n",
       "      <th>4</th>\n",
       "      <td>3</td>\n",
       "      <td>147</td>\n",
       "      <td>311</td>\n",
       "      <td>151</td>\n",
       "      <td>342</td>\n",
       "      <td>85</td>\n",
       "      <td>83</td>\n",
       "      <td>326</td>\n",
       "      <td>187</td>\n",
       "      <td>305</td>\n",
       "      <td>...</td>\n",
       "      <td>344</td>\n",
       "      <td>274</td>\n",
       "      <td>243</td>\n",
       "      <td>123</td>\n",
       "      <td>164</td>\n",
       "      <td>133</td>\n",
       "      <td>27</td>\n",
       "      <td>89</td>\n",
       "      <td>362</td>\n",
       "      <td>118</td>\n",
       "    </tr>\n",
       "    <tr>\n",
       "      <th>...</th>\n",
       "      <td>...</td>\n",
       "      <td>...</td>\n",
       "      <td>...</td>\n",
       "      <td>...</td>\n",
       "      <td>...</td>\n",
       "      <td>...</td>\n",
       "      <td>...</td>\n",
       "      <td>...</td>\n",
       "      <td>...</td>\n",
       "      <td>...</td>\n",
       "      <td>...</td>\n",
       "      <td>...</td>\n",
       "      <td>...</td>\n",
       "      <td>...</td>\n",
       "      <td>...</td>\n",
       "      <td>...</td>\n",
       "      <td>...</td>\n",
       "      <td>...</td>\n",
       "      <td>...</td>\n",
       "      <td>...</td>\n",
       "      <td>...</td>\n",
       "    </tr>\n",
       "    <tr>\n",
       "      <th>9995</th>\n",
       "      <td>247</td>\n",
       "      <td>26</td>\n",
       "      <td>326</td>\n",
       "      <td>206</td>\n",
       "      <td>217</td>\n",
       "      <td>89</td>\n",
       "      <td>54</td>\n",
       "      <td>305</td>\n",
       "      <td>294</td>\n",
       "      <td>173</td>\n",
       "      <td>...</td>\n",
       "      <td>81</td>\n",
       "      <td>115</td>\n",
       "      <td>325</td>\n",
       "      <td>8</td>\n",
       "      <td>8</td>\n",
       "      <td>70</td>\n",
       "      <td>318</td>\n",
       "      <td>185</td>\n",
       "      <td>173</td>\n",
       "      <td>57</td>\n",
       "    </tr>\n",
       "    <tr>\n",
       "      <th>9996</th>\n",
       "      <td>180</td>\n",
       "      <td>241</td>\n",
       "      <td>338</td>\n",
       "      <td>47</td>\n",
       "      <td>161</td>\n",
       "      <td>251</td>\n",
       "      <td>288</td>\n",
       "      <td>73</td>\n",
       "      <td>311</td>\n",
       "      <td>296</td>\n",
       "      <td>...</td>\n",
       "      <td>14</td>\n",
       "      <td>173</td>\n",
       "      <td>317</td>\n",
       "      <td>338</td>\n",
       "      <td>57</td>\n",
       "      <td>313</td>\n",
       "      <td>27</td>\n",
       "      <td>338</td>\n",
       "      <td>343</td>\n",
       "      <td>121</td>\n",
       "    </tr>\n",
       "    <tr>\n",
       "      <th>9997</th>\n",
       "      <td>364</td>\n",
       "      <td>27</td>\n",
       "      <td>175</td>\n",
       "      <td>150</td>\n",
       "      <td>221</td>\n",
       "      <td>214</td>\n",
       "      <td>199</td>\n",
       "      <td>42</td>\n",
       "      <td>178</td>\n",
       "      <td>338</td>\n",
       "      <td>...</td>\n",
       "      <td>247</td>\n",
       "      <td>214</td>\n",
       "      <td>19</td>\n",
       "      <td>286</td>\n",
       "      <td>171</td>\n",
       "      <td>277</td>\n",
       "      <td>182</td>\n",
       "      <td>204</td>\n",
       "      <td>251</td>\n",
       "      <td>67</td>\n",
       "    </tr>\n",
       "    <tr>\n",
       "      <th>9998</th>\n",
       "      <td>234</td>\n",
       "      <td>71</td>\n",
       "      <td>48</td>\n",
       "      <td>333</td>\n",
       "      <td>6</td>\n",
       "      <td>307</td>\n",
       "      <td>86</td>\n",
       "      <td>162</td>\n",
       "      <td>82</td>\n",
       "      <td>122</td>\n",
       "      <td>...</td>\n",
       "      <td>241</td>\n",
       "      <td>139</td>\n",
       "      <td>205</td>\n",
       "      <td>206</td>\n",
       "      <td>271</td>\n",
       "      <td>284</td>\n",
       "      <td>219</td>\n",
       "      <td>318</td>\n",
       "      <td>262</td>\n",
       "      <td>332</td>\n",
       "    </tr>\n",
       "    <tr>\n",
       "      <th>9999</th>\n",
       "      <td>108</td>\n",
       "      <td>147</td>\n",
       "      <td>108</td>\n",
       "      <td>179</td>\n",
       "      <td>73</td>\n",
       "      <td>325</td>\n",
       "      <td>354</td>\n",
       "      <td>116</td>\n",
       "      <td>208</td>\n",
       "      <td>63</td>\n",
       "      <td>...</td>\n",
       "      <td>100</td>\n",
       "      <td>70</td>\n",
       "      <td>145</td>\n",
       "      <td>308</td>\n",
       "      <td>175</td>\n",
       "      <td>157</td>\n",
       "      <td>259</td>\n",
       "      <td>201</td>\n",
       "      <td>54</td>\n",
       "      <td>117</td>\n",
       "    </tr>\n",
       "  </tbody>\n",
       "</table>\n",
       "<p>10000 rows × 23 columns</p>\n",
       "</div>"
      ],
      "text/plain": [
       "       0    1    2    3    4    5    6    7    8    9   ...   13   14   15  \\\n",
       "0     145  114  360  304   87   99  255  329  180   46  ...  206  209  128   \n",
       "1     239  192  337  325  205  256   97  130  186  218  ...  224  207  202   \n",
       "2      16  194   85  243  133  145  111   23  212  337  ...  166   99  213   \n",
       "3     242  113   82  209  138  105  113  311  346  103  ...   71   41   35   \n",
       "4       3  147  311  151  342   85   83  326  187  305  ...  344  274  243   \n",
       "...   ...  ...  ...  ...  ...  ...  ...  ...  ...  ...  ...  ...  ...  ...   \n",
       "9995  247   26  326  206  217   89   54  305  294  173  ...   81  115  325   \n",
       "9996  180  241  338   47  161  251  288   73  311  296  ...   14  173  317   \n",
       "9997  364   27  175  150  221  214  199   42  178  338  ...  247  214   19   \n",
       "9998  234   71   48  333    6  307   86  162   82  122  ...  241  139  205   \n",
       "9999  108  147  108  179   73  325  354  116  208   63  ...  100   70  145   \n",
       "\n",
       "       16   17   18   19   20   21   22  \n",
       "0     226   62  320   69   21   34   72  \n",
       "1      96  329    7  299   70  341  196  \n",
       "2     239  136   68   10  117   20   14  \n",
       "3     291  199  208  339  299   38  258  \n",
       "4     123  164  133   27   89  362  118  \n",
       "...   ...  ...  ...  ...  ...  ...  ...  \n",
       "9995    8    8   70  318  185  173   57  \n",
       "9996  338   57  313   27  338  343  121  \n",
       "9997  286  171  277  182  204  251   67  \n",
       "9998  206  271  284  219  318  262  332  \n",
       "9999  308  175  157  259  201   54  117  \n",
       "\n",
       "[10000 rows x 23 columns]"
      ]
     },
     "execution_count": 174,
     "metadata": {},
     "output_type": "execute_result"
    }
   ],
   "source": [
    "b_day_df = pd.DataFrame(b_day_sim)\n",
    "b_day_df"
   ]
  },
  {
   "cell_type": "code",
   "execution_count": 180,
   "metadata": {},
   "outputs": [
    {
     "data": {
      "text/plain": [
       "0.4984"
      ]
     },
     "execution_count": 180,
     "metadata": {},
     "output_type": "execute_result"
    }
   ],
   "source": [
    "(b_day_df.nunique(axis=1) < 23).mean()"
   ]
  },
  {
   "cell_type": "code",
   "execution_count": null,
   "metadata": {},
   "outputs": [],
   "source": []
  }
 ],
 "metadata": {
  "kernelspec": {
   "display_name": "base",
   "language": "python",
   "name": "python3"
  },
  "language_info": {
   "codemirror_mode": {
    "name": "ipython",
    "version": 3
   },
   "file_extension": ".py",
   "mimetype": "text/x-python",
   "name": "python",
   "nbconvert_exporter": "python",
   "pygments_lexer": "ipython3",
   "version": "3.11.3"
  },
  "orig_nbformat": 4
 },
 "nbformat": 4,
 "nbformat_minor": 2
}
