{
 "cells": [
  {
   "cell_type": "code",
   "execution_count": 87,
   "metadata": {},
   "outputs": [],
   "source": [
    "%matplotlib inline\n",
    "import numpy as np\n",
    "import pandas as pd\n",
    "\n",
    "\n",
    "\n",
    "np.random.seed(29)"
   ]
  },
  {
   "cell_type": "code",
   "execution_count": null,
   "metadata": {},
   "outputs": [],
   "source": []
  },
  {
   "cell_type": "markdown",
   "metadata": {},
   "source": [
    "1. How likely is it that you roll doubles when rolling two dice?"
   ]
  },
  {
   "cell_type": "code",
   "execution_count": 88,
   "metadata": {},
   "outputs": [],
   "source": [
    "# Set up for 2 dice w/ 10000 trial for getting doubles\n",
    "n_dice = 2\n",
    "n_trials = 10000\n",
    "dice = [1,2,3,4,5,6]\n",
    "doubles_rand = np.random.choice(dice,(n_trials, n_dice))"
   ]
  },
  {
   "cell_type": "code",
   "execution_count": 113,
   "metadata": {},
   "outputs": [
    {
     "data": {
      "text/plain": [
       "array([[6, 4],\n",
       "       [5, 6],\n",
       "       [3, 1],\n",
       "       [1, 2],\n",
       "       [2, 1],\n",
       "       [6, 4],\n",
       "       [2, 1],\n",
       "       [2, 4],\n",
       "       [4, 6],\n",
       "       [5, 1],\n",
       "       [5, 3],\n",
       "       [3, 4],\n",
       "       [1, 3],\n",
       "       [4, 1],\n",
       "       [4, 4],\n",
       "       [5, 3],\n",
       "       [6, 6],\n",
       "       [5, 5],\n",
       "       [1, 3],\n",
       "       [1, 3],\n",
       "       [5, 3],\n",
       "       [1, 2],\n",
       "       [4, 2],\n",
       "       [5, 2],\n",
       "       [4, 5],\n",
       "       [5, 4],\n",
       "       [5, 6],\n",
       "       [4, 2],\n",
       "       [1, 4],\n",
       "       [5, 3],\n",
       "       [4, 5],\n",
       "       [4, 5],\n",
       "       [1, 1],\n",
       "       [5, 6],\n",
       "       [4, 3],\n",
       "       [1, 4],\n",
       "       [4, 5],\n",
       "       [5, 4],\n",
       "       [5, 6],\n",
       "       [6, 3],\n",
       "       [2, 2],\n",
       "       [5, 5],\n",
       "       [2, 5],\n",
       "       [4, 5],\n",
       "       [2, 2],\n",
       "       [1, 1],\n",
       "       [5, 3],\n",
       "       [2, 4],\n",
       "       [6, 2],\n",
       "       [3, 2]])"
      ]
     },
     "execution_count": 113,
     "metadata": {},
     "output_type": "execute_result"
    }
   ],
   "source": [
    "doubles_rand[:50,:]"
   ]
  },
  {
   "cell_type": "code",
   "execution_count": 116,
   "metadata": {},
   "outputs": [
    {
     "data": {
      "text/plain": [
       "0.1709"
      ]
     },
     "execution_count": 116,
     "metadata": {},
     "output_type": "execute_result"
    }
   ],
   "source": [
    "# dice1 needs to = dice 2 \n",
    "(doubles_rand[ : , 0] == doubles_rand[ : , 1]).sum() / len(doubles_rand)"
   ]
  },
  {
   "cell_type": "markdown",
   "metadata": {},
   "source": [
    "2. If you flip 8 coins, what is the probability of getting exactly 3 heads? What is the probability of getting more than 3 heads?\n",
    "\n"
   ]
  },
  {
   "cell_type": "code",
   "execution_count": null,
   "metadata": {},
   "outputs": [],
   "source": [
    "outcomes = ['H','T']\n",
    "n_trials = 8\n",
    "n_sim = 10_000\n",
    "eight_flips = np.random.choice(outcomes, (n_sim, n_trials))"
   ]
  },
  {
   "cell_type": "code",
   "execution_count": null,
   "metadata": {},
   "outputs": [
    {
     "data": {
      "text/plain": [
       "array([['H', 'T', 'T', 'H', 'T', 'H', 'H', 'T'],\n",
       "       ['H', 'T', 'T', 'H', 'T', 'H', 'T', 'H'],\n",
       "       ['T', 'H', 'H', 'H', 'T', 'H', 'T', 'H'],\n",
       "       ['T', 'H', 'H', 'H', 'T', 'H', 'T', 'H'],\n",
       "       ['H', 'T', 'T', 'H', 'T', 'H', 'T', 'T'],\n",
       "       ['T', 'T', 'H', 'H', 'H', 'T', 'T', 'T'],\n",
       "       ['T', 'H', 'T', 'H', 'H', 'H', 'H', 'H'],\n",
       "       ['H', 'H', 'H', 'H', 'H', 'T', 'H', 'T'],\n",
       "       ['T', 'T', 'T', 'H', 'H', 'T', 'H', 'H'],\n",
       "       ['H', 'T', 'T', 'H', 'H', 'H', 'H', 'T']], dtype='<U1')"
      ]
     },
     "execution_count": 11,
     "metadata": {},
     "output_type": "execute_result"
    }
   ],
   "source": [
    "eight_flips[:10,:]"
   ]
  },
  {
   "cell_type": "code",
   "execution_count": null,
   "metadata": {},
   "outputs": [
    {
     "data": {
      "text/plain": [
       "0.2234"
      ]
     },
     "execution_count": 15,
     "metadata": {},
     "output_type": "execute_result"
    }
   ],
   "source": [
    "# Prob for exactly 3 Heads\n",
    "(eight_flips == 'H').sum(axis=1)\n",
    "((eight_flips == 'H').sum(axis=1) == 3).sum() / n_sim"
   ]
  },
  {
   "cell_type": "code",
   "execution_count": null,
   "metadata": {},
   "outputs": [
    {
     "data": {
      "text/plain": [
       "0.6297"
      ]
     },
     "execution_count": 16,
     "metadata": {},
     "output_type": "execute_result"
    }
   ],
   "source": [
    "# Prob for more than 3 heads\n",
    "((eight_flips == 'H').sum(axis=1) > 3).sum() / n_sim"
   ]
  },
  {
   "cell_type": "markdown",
   "metadata": {},
   "source": [
    "3. There are approximitely 3 web development cohorts for every 1 data science cohort at Codeup. Assuming that Codeup randomly selects an alumni to put on a billboard, what are the odds that the two billboards I drive past both have data science students on them?\n",
    "\n"
   ]
  },
  {
   "cell_type": "code",
   "execution_count": 124,
   "metadata": {},
   "outputs": [],
   "source": [
    "# 3 web\n",
    "# 1 data\n",
    "# assume that the class sizes are all the same and there will be a 1/3 chance 1 student is data and on 1 billboard\n",
    "# so use the rand.rand?\n",
    "da_to_web = (1/4)\n",
    "billboards = 2\n",
    "n_simulate = 10000\n",
    "class_data = np.random.random((n_simulate, billboards))\n",
    "\n",
    "# 2 bill boards"
   ]
  },
  {
   "cell_type": "code",
   "execution_count": 125,
   "metadata": {},
   "outputs": [
    {
     "data": {
      "text/plain": [
       "array([[0.66834509, 0.1398444 ],\n",
       "       [0.46976151, 0.2027028 ],\n",
       "       [0.57696501, 0.09672286],\n",
       "       [0.93738638, 0.99032298],\n",
       "       [0.18198562, 0.484098  ],\n",
       "       [0.4912944 , 0.73486494],\n",
       "       [0.98562077, 0.85071113],\n",
       "       [0.3678945 , 0.99478093],\n",
       "       [0.87062088, 0.20005653],\n",
       "       [0.28297348, 0.42141238]])"
      ]
     },
     "execution_count": 125,
     "metadata": {},
     "output_type": "execute_result"
    }
   ],
   "source": [
    "class_data[:10, :]"
   ]
  },
  {
   "cell_type": "code",
   "execution_count": 126,
   "metadata": {},
   "outputs": [],
   "source": [
    "# chances 1 billboard would be 1 in 3 chance\n",
    "one_in_three = (class_data < da_to_web)"
   ]
  },
  {
   "cell_type": "code",
   "execution_count": 127,
   "metadata": {},
   "outputs": [
    {
     "data": {
      "text/plain": [
       "0.0617"
      ]
     },
     "execution_count": 127,
     "metadata": {},
     "output_type": "execute_result"
    }
   ],
   "source": [
    "# 2 data 2 board\n",
    "((one_in_three.sum(axis=1)) == 2).mean()"
   ]
  },
  {
   "cell_type": "markdown",
   "metadata": {},
   "source": [
    "4. Codeup students buy, on average, 3 poptart packages with a standard deviation of 1.5 a day from the snack vending machine. If on monday the machine is restocked with 17 poptart packages, how likely is it that I will be able to buy some poptarts on Friday afternoon? (Remember, if you have mean and standard deviation, use the np.random.normal) You'll need to make a judgement call on how to handle some of your values\n",
    "\n"
   ]
  },
  {
   "cell_type": "code",
   "execution_count": 131,
   "metadata": {},
   "outputs": [],
   "source": [
    "poptarts_mean = 3\n",
    "pt_sd = 1.5\n",
    "poptart_stock = 17\n",
    "days = 5\n",
    "pop_trials = 10000\n",
    "sim_pop = np.random.normal(poptarts_mean, pt_sd, (pop_trials,days))\n"
   ]
  },
  {
   "cell_type": "code",
   "execution_count": 132,
   "metadata": {},
   "outputs": [
    {
     "data": {
      "text/plain": [
       "array([[4.37406252, 5.13519261, 3.72211954, 4.44408751, 4.62844519],\n",
       "       [3.98309086, 2.10136225, 1.417232  , 4.15966833, 3.31157788],\n",
       "       [2.91198814, 4.74343989, 2.30524799, 5.468778  , 2.26643154],\n",
       "       ...,\n",
       "       [2.96997472, 2.96741343, 4.90496731, 1.79594542, 1.20379045],\n",
       "       [0.37084892, 2.06239395, 1.24932164, 2.6056558 , 4.64910623],\n",
       "       [4.56340581, 3.95739351, 4.8681438 , 1.74679025, 2.3085685 ]])"
      ]
     },
     "execution_count": 132,
     "metadata": {},
     "output_type": "execute_result"
    }
   ],
   "source": [
    "sim_pop\n"
   ]
  },
  {
   "cell_type": "code",
   "execution_count": 134,
   "metadata": {},
   "outputs": [
    {
     "data": {
      "text/plain": [
       "0.6203"
      ]
     },
     "execution_count": 134,
     "metadata": {},
     "output_type": "execute_result"
    }
   ],
   "source": [
    "(sim_pop.sum(axis=1) < 16).mean()"
   ]
  },
  {
   "cell_type": "markdown",
   "metadata": {},
   "source": [
    "5. Compare Heights\n",
    "\n",
    "    * Men have an average height of 178 cm and standard deviation of 8cm.\n",
    "    * Women have a mean of 170, sd = 6cm.\n",
    "    * Since you have means and standard deviations, you can use np.random.normal to generate observations.\n",
    "    * If a man and woman are chosen at random, what is the likelihood the woman is taller than the man?\n",
    "\n"
   ]
  },
  {
   "cell_type": "code",
   "execution_count": 135,
   "metadata": {},
   "outputs": [],
   "source": [
    "men_ht_mean = 178\n",
    "men_sd = 8\n",
    "women_ht_mean = 170\n",
    "women_sd = 6\n",
    "mw_trials = 10000\n",
    "\n",
    "men_dist = np.random.normal(men_ht_mean, men_sd, mw_trials)\n",
    "\n",
    "women_dist = np.random.normal(women_ht_mean, women_sd, mw_trials)"
   ]
  },
  {
   "cell_type": "code",
   "execution_count": 136,
   "metadata": {},
   "outputs": [
    {
     "data": {
      "text/plain": [
       "array([166.90248178, 173.0875921 , 167.27294829, ..., 178.30686779,\n",
       "       166.7027939 , 171.48917168])"
      ]
     },
     "execution_count": 136,
     "metadata": {},
     "output_type": "execute_result"
    }
   ],
   "source": [
    "men_dist"
   ]
  },
  {
   "cell_type": "code",
   "execution_count": 137,
   "metadata": {},
   "outputs": [
    {
     "data": {
      "text/plain": [
       "array([168.50315997, 177.23192323, 167.38617557, ..., 181.53077114,\n",
       "       171.30036012, 176.56450324])"
      ]
     },
     "execution_count": 137,
     "metadata": {},
     "output_type": "execute_result"
    }
   ],
   "source": [
    "women_dist"
   ]
  },
  {
   "cell_type": "code",
   "execution_count": 139,
   "metadata": {},
   "outputs": [
    {
     "data": {
      "text/plain": [
       "0.2106"
      ]
     },
     "execution_count": 139,
     "metadata": {},
     "output_type": "execute_result"
    }
   ],
   "source": [
    "tall_women = (women_dist > men_dist).mean()\n",
    "\n",
    "tall_women"
   ]
  },
  {
   "cell_type": "markdown",
   "metadata": {},
   "source": [
    "6. When installing anaconda on a student's computer, there's a 1 in 250 chance that the download is corrupted and the installation fails. \n",
    "\n",
    "    What are the odds that after having 50 students download anaconda, no one has an installation issue? 100 students?\n",
    "\n",
    "    What is the probability that we observe an installation issue within the first 150 students that download anaconda?\n",
    "\n",
    "    How likely is it that 450 students all download anaconda without an issue?\n",
    "\n"
   ]
  },
  {
   "cell_type": "code",
   "execution_count": 141,
   "metadata": {},
   "outputs": [],
   "source": [
    "\n",
    "cor_file = (1/250)\n",
    "stud_install = 50\n",
    "sim_it = 10000"
   ]
  },
  {
   "cell_type": "code",
   "execution_count": 143,
   "metadata": {},
   "outputs": [
    {
     "data": {
      "text/plain": [
       "array([[0.06181718, 0.88549899, 0.97391858, ..., 0.37055129, 0.92775203,\n",
       "        0.0121313 ],\n",
       "       [0.27827437, 0.57183658, 0.95498639, ..., 0.84028451, 0.36940841,\n",
       "        0.18186932],\n",
       "       [0.04490671, 0.91396357, 0.79858949, ..., 0.77639627, 0.29456235,\n",
       "        0.21101567],\n",
       "       ...,\n",
       "       [0.8868487 , 0.97358129, 0.62837971, ..., 0.87625161, 0.47145096,\n",
       "        0.32613679],\n",
       "       [0.79286023, 0.85789865, 0.38192886, ..., 0.06834522, 0.39387962,\n",
       "        0.96579718],\n",
       "       [0.79164901, 0.7007984 , 0.24547015, ..., 0.49053384, 0.57003985,\n",
       "        0.38238719]])"
      ]
     },
     "execution_count": 143,
     "metadata": {},
     "output_type": "execute_result"
    }
   ],
   "source": [
    "break_sim = np.random.random((sim_it, stud_install))\n",
    "break_sim"
   ]
  },
  {
   "cell_type": "code",
   "execution_count": 150,
   "metadata": {},
   "outputs": [
    {
     "data": {
      "text/plain": [
       "0.8121"
      ]
     },
     "execution_count": 150,
     "metadata": {},
     "output_type": "execute_result"
    }
   ],
   "source": [
    "# for 50\n",
    "x = ((break_sim < cor_file).sum(axis=1) == 0).mean()\n",
    "x"
   ]
  },
  {
   "cell_type": "code",
   "execution_count": 152,
   "metadata": {},
   "outputs": [
    {
     "data": {
      "text/plain": [
       "array([[0.14426544, 0.18615367, 0.27268491, ..., 0.13918057, 0.71148432,\n",
       "        0.76387035],\n",
       "       [0.49290109, 0.58767682, 0.65900136, ..., 0.38736913, 0.98057954,\n",
       "        0.46567203],\n",
       "       [0.5416368 , 0.83677487, 0.21192255, ..., 0.48094516, 0.97584337,\n",
       "        0.76543858],\n",
       "       ...,\n",
       "       [0.98317967, 0.91576204, 0.29704248, ..., 0.32926026, 0.21396915,\n",
       "        0.14509016],\n",
       "       [0.87177019, 0.02700704, 0.72319156, ..., 0.41334682, 0.65969398,\n",
       "        0.14051053],\n",
       "       [0.84291916, 0.7787009 , 0.24247815, ..., 0.98470024, 0.17868054,\n",
       "        0.76027043]])"
      ]
     },
     "execution_count": 152,
     "metadata": {},
     "output_type": "execute_result"
    }
   ],
   "source": [
    "cor_file = (1/250)\n",
    "stud_install = 100\n",
    "sim_it = 10000\n",
    "break_sim = np.random.random((sim_it, stud_install))\n",
    "break_sim"
   ]
  },
  {
   "cell_type": "code",
   "execution_count": 153,
   "metadata": {},
   "outputs": [
    {
     "data": {
      "text/plain": [
       "0.6599"
      ]
     },
     "execution_count": 153,
     "metadata": {},
     "output_type": "execute_result"
    }
   ],
   "source": [
    "# for 100\n",
    "x = ((break_sim < cor_file).sum(axis=1) == 0).mean()\n",
    "x"
   ]
  },
  {
   "cell_type": "code",
   "execution_count": 154,
   "metadata": {},
   "outputs": [
    {
     "data": {
      "text/plain": [
       "array([[0.95921308, 0.29493333, 0.29138318, ..., 0.5438318 , 0.15619806,\n",
       "        0.08426421],\n",
       "       [0.4008301 , 0.42233391, 0.9408175 , ..., 0.74230959, 0.23415865,\n",
       "        0.06270295],\n",
       "       [0.5213703 , 0.34861485, 0.42207503, ..., 0.34690592, 0.84860346,\n",
       "        0.90792692],\n",
       "       ...,\n",
       "       [0.62185358, 0.65366083, 0.77741873, ..., 0.48245334, 0.96973916,\n",
       "        0.03419917],\n",
       "       [0.95769587, 0.15584295, 0.32571134, ..., 0.41684609, 0.21531651,\n",
       "        0.0246758 ],\n",
       "       [0.36069274, 0.60129513, 0.9452029 , ..., 0.51767037, 0.95236781,\n",
       "        0.97212751]])"
      ]
     },
     "execution_count": 154,
     "metadata": {},
     "output_type": "execute_result"
    }
   ],
   "source": [
    "cor_file = (1/250)\n",
    "stud_install = 150\n",
    "sim_it = 10000\n",
    "break_sim = np.random.random((sim_it, stud_install))\n",
    "break_sim"
   ]
  },
  {
   "cell_type": "code",
   "execution_count": 155,
   "metadata": {},
   "outputs": [
    {
     "data": {
      "text/plain": [
       "0.453"
      ]
     },
     "execution_count": 155,
     "metadata": {},
     "output_type": "execute_result"
    }
   ],
   "source": [
    "# for 150\n",
    "x = ((break_sim < cor_file).sum(axis=1) >= 1).mean()\n",
    "x"
   ]
  },
  {
   "cell_type": "code",
   "execution_count": 157,
   "metadata": {},
   "outputs": [
    {
     "data": {
      "text/plain": [
       "array([[0.6325021 , 0.32009899, 0.17919503, ..., 0.09669097, 0.58474156,\n",
       "        0.37503459],\n",
       "       [0.6475598 , 0.22754333, 0.67695866, ..., 0.63543652, 0.79546859,\n",
       "        0.2277378 ],\n",
       "       [0.61512162, 0.85944816, 0.96194874, ..., 0.97408298, 0.99937179,\n",
       "        0.91047084],\n",
       "       ...,\n",
       "       [0.97525094, 0.44375822, 0.27953499, ..., 0.64226432, 0.92691457,\n",
       "        0.96101107],\n",
       "       [0.35359733, 0.01201318, 0.48016297, ..., 0.18085707, 0.76097003,\n",
       "        0.69965134],\n",
       "       [0.12200615, 0.28256165, 0.61475422, ..., 0.32806783, 0.23832031,\n",
       "        0.21046331]])"
      ]
     },
     "execution_count": 157,
     "metadata": {},
     "output_type": "execute_result"
    }
   ],
   "source": [
    "cor_file = (1/250)\n",
    "stud_install = 150\n",
    "sim_it = 10000\n",
    "break_sim = np.random.random((sim_it, stud_install))\n",
    "break_sim"
   ]
  },
  {
   "cell_type": "code",
   "execution_count": 158,
   "metadata": {},
   "outputs": [
    {
     "data": {
      "text/plain": [
       "0.5511"
      ]
     },
     "execution_count": 158,
     "metadata": {},
     "output_type": "execute_result"
    }
   ],
   "source": [
    "# for 450\n",
    "x = ((break_sim < cor_file).sum(axis=1) == 0).mean()\n",
    "x"
   ]
  },
  {
   "cell_type": "markdown",
   "metadata": {},
   "source": [
    "7. There's a 70% chance on any given day that there will be at least one food truck at Travis Park. However, you haven't seen a food truck there in 3 days. How unlikely is this?\n",
    "\n",
    "How likely is it that a food truck will show up sometime this week?\n",
    "\n"
   ]
  },
  {
   "cell_type": "code",
   "execution_count": null,
   "metadata": {},
   "outputs": [],
   "source": [
    "# food truck .7 any day\n",
    "# no truck 3\n",
    "# shows up within the week  \n",
    "truck_prob = .7\n"
   ]
  },
  {
   "cell_type": "markdown",
   "metadata": {},
   "source": [
    "8. If 23 people are in the same room, what are the odds that two of them share a birthday? What if it's 20 people? 40?\n",
    "\n",
    "Be sure to add, commit, and push your work.\n",
    "\n"
   ]
  },
  {
   "cell_type": "code",
   "execution_count": 122,
   "metadata": {},
   "outputs": [
    {
     "data": {
      "text/plain": [
       "0.5072972343239855"
      ]
     },
     "execution_count": 122,
     "metadata": {},
     "output_type": "execute_result"
    }
   ],
   "source": [
    "def b_day(n):\n",
    "    not_bday = 1\n",
    "    i = 0\n",
    "    while ( n >= 1):\n",
    "        not_bday = not_bday*(365 - i)/365\n",
    "        n = n - 1\n",
    "        i = i + 1\n",
    "    share_bday = 1 - not_bday\n",
    "    return share_bday\n",
    "\n",
    "birthday_problem(23)"
   ]
  },
  {
   "cell_type": "code",
   "execution_count": 119,
   "metadata": {},
   "outputs": [
    {
     "data": {
      "text/plain": [
       "0.41143838358058016"
      ]
     },
     "execution_count": 119,
     "metadata": {},
     "output_type": "execute_result"
    }
   ],
   "source": [
    "birthday_problem(20)"
   ]
  },
  {
   "cell_type": "code",
   "execution_count": 120,
   "metadata": {},
   "outputs": [
    {
     "data": {
      "text/plain": [
       "0.891231809817949"
      ]
     },
     "execution_count": 120,
     "metadata": {},
     "output_type": "execute_result"
    }
   ],
   "source": [
    "birthday_problem(40)"
   ]
  },
  {
   "cell_type": "code",
   "execution_count": null,
   "metadata": {},
   "outputs": [],
   "source": []
  }
 ],
 "metadata": {
  "kernelspec": {
   "display_name": "base",
   "language": "python",
   "name": "python3"
  },
  "language_info": {
   "codemirror_mode": {
    "name": "ipython",
    "version": 3
   },
   "file_extension": ".py",
   "mimetype": "text/x-python",
   "name": "python",
   "nbconvert_exporter": "python",
   "pygments_lexer": "ipython3",
   "version": "3.11.3"
  },
  "orig_nbformat": 4
 },
 "nbformat": 4,
 "nbformat_minor": 2
}
