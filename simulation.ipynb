{
 "cells": [
  {
   "cell_type": "code",
   "execution_count": 2,
   "metadata": {},
   "outputs": [],
   "source": [
    "%matplotlib inline\n",
    "import numpy as np\n",
    "import pandas as pd\n",
    "\n",
    "\n",
    "\n",
    "np.random.seed(29)"
   ]
  },
  {
   "cell_type": "code",
   "execution_count": null,
   "metadata": {},
   "outputs": [],
   "source": []
  },
  {
   "cell_type": "markdown",
   "metadata": {},
   "source": [
    "1. How likely is it that you roll doubles when rolling two dice?"
   ]
  },
  {
   "cell_type": "code",
   "execution_count": 5,
   "metadata": {},
   "outputs": [],
   "source": [
    "# Set up for 2 dice w/ 10000 trial for getting doubles\n",
    "n_dice = 2\n",
    "n_trials = 10000\n",
    "dice = [1,2,3,4,5,6]\n",
    "doubles_rand = np.random.choice(dice,(n_trials, n_dice))"
   ]
  },
  {
   "cell_type": "code",
   "execution_count": 6,
   "metadata": {},
   "outputs": [
    {
     "data": {
      "text/plain": [
       "array([[3, 3],\n",
       "       [3, 3],\n",
       "       [2, 1],\n",
       "       [4, 1],\n",
       "       [4, 4],\n",
       "       [6, 4],\n",
       "       [4, 1],\n",
       "       [4, 3],\n",
       "       [4, 6],\n",
       "       [4, 2]])"
      ]
     },
     "execution_count": 6,
     "metadata": {},
     "output_type": "execute_result"
    }
   ],
   "source": [
    "doubles_rand[:10,:]"
   ]
  },
  {
   "cell_type": "code",
   "execution_count": 9,
   "metadata": {},
   "outputs": [
    {
     "name": "stderr",
     "output_type": "stream",
     "text": [
      "/var/folders/mj/fstq2n8s1gs942htzygkxlj40000gn/T/ipykernel_7368/3499864966.py:1: DeprecationWarning: elementwise comparison failed; this will raise an error in the future.\n",
      "  (doubles_rand[:, 0] == doubles_rand[0,:]).sum(axis=1)\n"
     ]
    },
    {
     "ename": "AttributeError",
     "evalue": "'bool' object has no attribute 'sum'",
     "output_type": "error",
     "traceback": [
      "\u001b[0;31m---------------------------------------------------------------------------\u001b[0m",
      "\u001b[0;31mAttributeError\u001b[0m                            Traceback (most recent call last)",
      "Cell \u001b[0;32mIn[9], line 1\u001b[0m\n\u001b[0;32m----> 1\u001b[0m (doubles_rand[:, \u001b[39m0\u001b[39m] \u001b[39m==\u001b[39m doubles_rand[\u001b[39m0\u001b[39m,:])\u001b[39m.\u001b[39msum(axis\u001b[39m=\u001b[39m\u001b[39m1\u001b[39m)\n",
      "\u001b[0;31mAttributeError\u001b[0m: 'bool' object has no attribute 'sum'"
     ]
    }
   ],
   "source": [
    "# dice1 needs to = dice 2 "
   ]
  },
  {
   "cell_type": "markdown",
   "metadata": {},
   "source": [
    "2. If you flip 8 coins, what is the probability of getting exactly 3 heads? What is the probability of getting more than 3 heads?\n",
    "\n"
   ]
  },
  {
   "cell_type": "code",
   "execution_count": 10,
   "metadata": {},
   "outputs": [],
   "source": [
    "outcomes = ['H','T']\n",
    "n_trials = 8\n",
    "n_sim = 10_000\n",
    "eight_flips = np.random.choice(outcomes, (n_sim, n_trials))"
   ]
  },
  {
   "cell_type": "code",
   "execution_count": 11,
   "metadata": {},
   "outputs": [
    {
     "data": {
      "text/plain": [
       "array([['H', 'T', 'T', 'H', 'T', 'H', 'H', 'T'],\n",
       "       ['H', 'T', 'T', 'H', 'T', 'H', 'T', 'H'],\n",
       "       ['T', 'H', 'H', 'H', 'T', 'H', 'T', 'H'],\n",
       "       ['T', 'H', 'H', 'H', 'T', 'H', 'T', 'H'],\n",
       "       ['H', 'T', 'T', 'H', 'T', 'H', 'T', 'T'],\n",
       "       ['T', 'T', 'H', 'H', 'H', 'T', 'T', 'T'],\n",
       "       ['T', 'H', 'T', 'H', 'H', 'H', 'H', 'H'],\n",
       "       ['H', 'H', 'H', 'H', 'H', 'T', 'H', 'T'],\n",
       "       ['T', 'T', 'T', 'H', 'H', 'T', 'H', 'H'],\n",
       "       ['H', 'T', 'T', 'H', 'H', 'H', 'H', 'T']], dtype='<U1')"
      ]
     },
     "execution_count": 11,
     "metadata": {},
     "output_type": "execute_result"
    }
   ],
   "source": [
    "eight_flips[:10,:]"
   ]
  },
  {
   "cell_type": "code",
   "execution_count": 15,
   "metadata": {},
   "outputs": [
    {
     "data": {
      "text/plain": [
       "0.2234"
      ]
     },
     "execution_count": 15,
     "metadata": {},
     "output_type": "execute_result"
    }
   ],
   "source": [
    "# Prob for exactly 3 Heads\n",
    "(eight_flips == 'H').sum(axis=1)\n",
    "((eight_flips == 'H').sum(axis=1) == 3).sum() / n_sim"
   ]
  },
  {
   "cell_type": "code",
   "execution_count": 16,
   "metadata": {},
   "outputs": [
    {
     "data": {
      "text/plain": [
       "0.6297"
      ]
     },
     "execution_count": 16,
     "metadata": {},
     "output_type": "execute_result"
    }
   ],
   "source": [
    "# Prob for more than 3 heads\n",
    "((eight_flips == 'H').sum(axis=1) > 3).sum() / n_sim"
   ]
  },
  {
   "cell_type": "markdown",
   "metadata": {},
   "source": [
    "3. There are approximitely 3 web development cohorts for every 1 data science cohort at Codeup. Assuming that Codeup randomly selects an alumni to put on a billboard, what are the odds that the two billboards I drive past both have data science students on them?\n",
    "\n"
   ]
  },
  {
   "cell_type": "code",
   "execution_count": 25,
   "metadata": {},
   "outputs": [],
   "source": [
    "# 3 web\n",
    "# 1 data\n",
    "# assume that the class sizes are all the same and there will be a 1/3 chance 1 student is data and on 1 billboard\n",
    "# so use the rand.rand?\n",
    "da_to_web = (1/3)\n",
    "billboards = 2\n",
    "n_simulate = 10000\n",
    "class_data = np.random.random((n_simulate, billboards))\n",
    "\n",
    "# 2 bill boards"
   ]
  },
  {
   "cell_type": "code",
   "execution_count": 26,
   "metadata": {},
   "outputs": [
    {
     "data": {
      "text/plain": [
       "array([[0.48614082, 0.59709603],\n",
       "       [0.61406416, 0.84943868],\n",
       "       [0.05694802, 0.24438293],\n",
       "       [0.90710753, 0.64509188],\n",
       "       [0.48217333, 0.87728867],\n",
       "       [0.75274143, 0.24131581],\n",
       "       [0.44621517, 0.10029338],\n",
       "       [0.53084673, 0.87602044],\n",
       "       [0.36308207, 0.13954565],\n",
       "       [0.08671018, 0.61052185]])"
      ]
     },
     "execution_count": 26,
     "metadata": {},
     "output_type": "execute_result"
    }
   ],
   "source": [
    "class_data[:10, :]"
   ]
  },
  {
   "cell_type": "code",
   "execution_count": 29,
   "metadata": {},
   "outputs": [],
   "source": [
    "# chances 1 billboard would be 1 in 3 chance\n",
    "one_in_three = (class_data < da_to_web)"
   ]
  },
  {
   "cell_type": "code",
   "execution_count": 32,
   "metadata": {},
   "outputs": [
    {
     "data": {
      "text/plain": [
       "0.1135"
      ]
     },
     "execution_count": 32,
     "metadata": {},
     "output_type": "execute_result"
    }
   ],
   "source": [
    "# 2 data 2 board\n",
    "((one_in_three.sum(axis=1)) == 2).mean()"
   ]
  },
  {
   "cell_type": "markdown",
   "metadata": {},
   "source": [
    "4. Codeup students buy, on average, 3 poptart packages with a standard deviation of 1.5 a day from the snack vending machine. If on monday the machine is restocked with 17 poptart packages, how likely is it that I will be able to buy some poptarts on Friday afternoon? (Remember, if you have mean and standard deviation, use the np.random.normal) You'll need to make a judgement call on how to handle some of your values\n",
    "\n"
   ]
  },
  {
   "cell_type": "code",
   "execution_count": 44,
   "metadata": {},
   "outputs": [],
   "source": [
    "poptarts_mean = 3\n",
    "pt_sd = 1.5\n",
    "poptart_stock = 17\n",
    "days = 5\n",
    "fat_kids = np.random.normal(poptarts_mean, pt_sd, days)\n"
   ]
  },
  {
   "cell_type": "code",
   "execution_count": 46,
   "metadata": {},
   "outputs": [
    {
     "data": {
      "text/plain": [
       "array([1.86035879, 3.00053896, 2.36773578, 3.68093645, 6.86085918])"
      ]
     },
     "execution_count": 46,
     "metadata": {},
     "output_type": "execute_result"
    }
   ],
   "source": [
    "fat_kids\n",
    "# come back to this"
   ]
  },
  {
   "cell_type": "code",
   "execution_count": null,
   "metadata": {},
   "outputs": [],
   "source": []
  },
  {
   "cell_type": "markdown",
   "metadata": {},
   "source": [
    "5. Compare Heights\n",
    "\n",
    "    * Men have an average height of 178 cm and standard deviation of 8cm.\n",
    "    * Women have a mean of 170, sd = 6cm.\n",
    "    * Since you have means and standard deviations, you can use np.random.normal to generate observations.\n",
    "    * If a man and woman are chosen at random, what is the likelihood the woman is taller than the man?\n",
    "\n"
   ]
  },
  {
   "cell_type": "code",
   "execution_count": 53,
   "metadata": {},
   "outputs": [],
   "source": [
    "men_ht_mean = 178\n",
    "men_sd = 8\n",
    "women_ht_mean = 170\n",
    "women_sd = 6\n",
    "\n",
    "men_dist = np.random.normal(men_ht_mean, men_sd, size=50)\n",
    "\n",
    "women_dist = np.random.normal(women_ht_mean, women_sd, size=50)"
   ]
  },
  {
   "cell_type": "code",
   "execution_count": 50,
   "metadata": {},
   "outputs": [
    {
     "data": {
      "text/plain": [
       "array([180.81597496, 171.75156383, 176.51762393, 179.58983121,\n",
       "       189.88050966, 182.50226001, 170.15114703, 190.34041908,\n",
       "       180.37416498, 178.44137339, 181.78084501, 179.19034328,\n",
       "       187.3036615 , 184.41276115, 182.43994334, 181.62837771,\n",
       "       181.29229722, 186.54572352, 177.27360356, 176.71963992,\n",
       "       181.77025572, 179.9608001 , 188.04940823, 179.88001965,\n",
       "       175.43502892, 189.22454629, 178.36888528, 171.88353564,\n",
       "       176.64560452, 161.70399237, 171.98346201, 182.74300062,\n",
       "       173.49597361, 190.03699954, 183.6285578 , 189.97655715,\n",
       "       177.15842225, 180.99741499, 182.74565751, 175.21893336,\n",
       "       180.13862868, 175.80905423, 194.43703694, 186.04320844,\n",
       "       157.66847304, 174.64788357, 173.86157795, 188.6668234 ,\n",
       "       191.74503873, 171.97300717, 162.25462836, 190.56712388,\n",
       "       166.5353889 , 183.04037715, 178.83559608, 176.59802136,\n",
       "       177.15349136, 158.69740324, 182.93345587, 181.10597994,\n",
       "       176.93505981, 174.6442983 , 175.89374606, 188.35747927,\n",
       "       181.09210092, 185.02911481, 176.5536536 , 177.14888562,\n",
       "       183.00402411, 163.86054768, 170.92926671, 185.01102702,\n",
       "       177.27938736, 167.84507247, 175.62655094, 179.71672649,\n",
       "       195.80305595, 166.39832255, 181.08442926, 183.38035186,\n",
       "       167.25451831, 171.70869206, 169.03193133, 162.30812779,\n",
       "       183.92276475, 173.95958532, 170.90687121, 167.98451684,\n",
       "       186.44037218, 174.98833598, 178.11270059, 167.66642249,\n",
       "       176.50409877, 170.18164355, 173.23256206, 180.27939056,\n",
       "       178.2207105 , 184.64728953, 179.73091921, 173.35929094])"
      ]
     },
     "execution_count": 50,
     "metadata": {},
     "output_type": "execute_result"
    }
   ],
   "source": [
    "men_dist"
   ]
  },
  {
   "cell_type": "code",
   "execution_count": 54,
   "metadata": {},
   "outputs": [
    {
     "data": {
      "text/plain": [
       "array([167.65953554, 174.58185883, 162.84101523, 182.52287809,\n",
       "       153.68197234, 171.12832106, 163.52922284, 167.22696173,\n",
       "       168.91367725, 172.50178708, 180.84184319, 170.87639192,\n",
       "       166.95459196, 172.37013665, 162.1080103 , 175.09314147,\n",
       "       167.46710095, 169.63486858, 169.6304048 , 172.79781109,\n",
       "       166.73301951, 176.6759194 , 164.38870497, 182.32234104,\n",
       "       161.74259878, 166.98466847, 176.29921877, 172.40414749,\n",
       "       174.52217099, 169.48445103, 162.99610375, 165.5165349 ,\n",
       "       171.30133222, 166.70309181, 174.77777247, 163.35135898,\n",
       "       174.75513853, 164.70193616, 171.13312086, 170.52325218,\n",
       "       174.50330356, 163.52846039, 163.63149866, 169.04599362,\n",
       "       169.7732105 , 177.71520563, 161.33020887, 175.13241698,\n",
       "       165.20494728, 166.09966494])"
      ]
     },
     "execution_count": 54,
     "metadata": {},
     "output_type": "execute_result"
    }
   ],
   "source": [
    "women_dist"
   ]
  },
  {
   "cell_type": "code",
   "execution_count": 59,
   "metadata": {},
   "outputs": [
    {
     "data": {
      "text/plain": [
       "0.1"
      ]
     },
     "execution_count": 59,
     "metadata": {},
     "output_type": "execute_result"
    }
   ],
   "source": [
    "tall_women = (women_dist > men_dist).sum()\n",
    "tall_women / 100\n"
   ]
  },
  {
   "cell_type": "markdown",
   "metadata": {},
   "source": [
    "6. When installing anaconda on a student's computer, there's a 1 in 250 chance that the download is corrupted and the installation fails. \n",
    "\n",
    "    What are the odds that after having 50 students download anaconda, no one has an installation issue? 100 students?\n",
    "\n",
    "    What is the probability that we observe an installation issue within the first 150 students that download anaconda?\n",
    "\n",
    "    How likely is it that 450 students all download anaconda without an issue?\n",
    "\n"
   ]
  },
  {
   "cell_type": "code",
   "execution_count": 65,
   "metadata": {},
   "outputs": [],
   "source": [
    "cor_file = (1/250)\n",
    "stud_trials = 50\n",
    "sim_it = 10000"
   ]
  },
  {
   "cell_type": "code",
   "execution_count": 69,
   "metadata": {},
   "outputs": [],
   "source": [
    "break_sim = np.random.random((sim_it, stud_trials))"
   ]
  },
  {
   "cell_type": "code",
   "execution_count": 74,
   "metadata": {},
   "outputs": [
    {
     "data": {
      "text/plain": [
       "0.1981"
      ]
     },
     "execution_count": 74,
     "metadata": {},
     "output_type": "execute_result"
    }
   ],
   "source": [
    "(break_sim < cor_file).sum() / len(break_sim)"
   ]
  },
  {
   "cell_type": "markdown",
   "metadata": {},
   "source": [
    "7. There's a 70% chance on any given day that there will be at least one food truck at Travis Park. However, you haven't seen a food truck there in 3 days. How unlikely is this?\n",
    "\n",
    "How likely is it that a food truck will show up sometime this week?\n",
    "\n"
   ]
  },
  {
   "cell_type": "markdown",
   "metadata": {},
   "source": [
    "8. If 23 people are in the same room, what are the odds that two of them share a birthday? What if it's 20 people? 40?\n",
    "\n",
    "Be sure to add, commit, and push your work.\n",
    "\n"
   ]
  }
 ],
 "metadata": {
  "kernelspec": {
   "display_name": "base",
   "language": "python",
   "name": "python3"
  },
  "language_info": {
   "codemirror_mode": {
    "name": "ipython",
    "version": 3
   },
   "file_extension": ".py",
   "mimetype": "text/x-python",
   "name": "python",
   "nbconvert_exporter": "python",
   "pygments_lexer": "ipython3",
   "version": "3.11.3"
  },
  "orig_nbformat": 4
 },
 "nbformat": 4,
 "nbformat_minor": 2
}
