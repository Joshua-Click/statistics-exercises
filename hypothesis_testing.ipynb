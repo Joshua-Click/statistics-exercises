{
 "cells": [
  {
   "cell_type": "code",
   "execution_count": null,
   "metadata": {},
   "outputs": [],
   "source": []
  },
  {
   "cell_type": "markdown",
   "metadata": {},
   "source": [
    "For each of the following questions, formulate a null and alternative hypothesis (be as specific as you can be), then give an example of what a true positive, true negative, type I and type II errors would look like. Note that some of the questions are intentionally phrased in a vague way. It is your job to reword these as more precise questions that could be tested."
   ]
  },
  {
   "cell_type": "markdown",
   "metadata": {},
   "source": [
    "  ### Has the network latency gone up since we switched internet service providers?\n",
    "\n",
    "- value: latency\n",
    "- condition: latency before change, latency after change\n",
    "\n",
    "  h0 = There is no difference between the latency in internet from the old to the new service\n",
    "  \n",
    "  ha = There is a diff between the latecy of internet now than the latency from before we switched\n",
    "  \n",
    "\n",
    "\n",
    "  * True Positive ==> There was a diff in latency and the diff in lat was indeed true\n",
    "  * True Negative ==> No diff in latency and there was in fact no diff in latency / did not reject h0 and h0 was true\n",
    "  * type I ==> there was a diff in lat, but there was no diff in latency\n",
    "  * type II ==> there was no diff in latency but there was a diff\n",
    "\n"
   ]
  },
  {
   "cell_type": "markdown",
   "metadata": {},
   "source": [
    "### Is the website redesign any good?\n",
    "\n",
    "- engagement score for traffic to website\n",
    "\n",
    "h0 = No diff in engagement from the old design to the new design\n",
    "\n",
    "ha = There is a measurable increase in engagement since the redesign\n",
    "\n",
    "* True Positive ==> There was an increase since the redesign so we rejected the null \n",
    "* True Negative ==> No change or less engagement and it did not increase\n",
    "* type I ==> Said there was an increase but there wasnt\n",
    "* type II ==> engagement was the same or less than before but it actually increased\n"
   ]
  },
  {
   "cell_type": "markdown",
   "metadata": {},
   "source": [
    "### Is our television ad driving more sales?\n",
    "\n",
    "h0 = new_sales no diff or less than old_sales before ad\n",
    "\n",
    "ha = new_sales > it was before running the add\n",
    "\n",
    "* True Positive ==> sales avg has increased, and we said that it increased\n",
    "* True Negative ==> there was no change or less and that was actually the case\n",
    "* type I ==> sales were greater now but we said the did not change or were less\n",
    "* type II ==> said that sales were the same or less than they were before, but are actually increased now since the ad\n"
   ]
  },
  {
   "cell_type": "markdown",
   "metadata": {},
   "source": []
  }
 ],
 "metadata": {
  "kernelspec": {
   "display_name": "base",
   "language": "python",
   "name": "python3"
  },
  "language_info": {
   "name": "python",
   "version": "3.11.3"
  },
  "orig_nbformat": 4
 },
 "nbformat": 4,
 "nbformat_minor": 2
}
