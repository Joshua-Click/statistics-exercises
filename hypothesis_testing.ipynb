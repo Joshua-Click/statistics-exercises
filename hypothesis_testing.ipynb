{
 "cells": [
  {
   "cell_type": "code",
   "execution_count": null,
   "metadata": {},
   "outputs": [],
   "source": []
  },
  {
   "cell_type": "markdown",
   "metadata": {},
   "source": [
    "For each of the following questions, formulate a null and alternative hypothesis (be as specific as you can be), then give an example of what a true positive, true negative, type I and type II errors would look like. Note that some of the questions are intentionally phrased in a vague way. It is your job to reword these as more precise questions that could be tested."
   ]
  },
  {
   "cell_type": "markdown",
   "metadata": {},
   "source": [
    "  Has the network latency gone up since we switched internet service providers?\n",
    "\n",
    "  h0 = the new_latency > old_latency\n",
    "  ha = the new_latency <= old_latency\n",
    "  \n",
    "\n",
    "\n",
    "  True Positive ==> new_latency is higher than the old latency so we accept the null\n",
    "  True Negative ==> the new_latency is lower than the old latency so we reject the null\n",
    "  type I ==> would be us saying that the new_latency is saying that latency is higher than the old one but we rejected the null when we should have accepted it\n",
    "  type II ==> would be us saying that the new_latency is lower than the old one but we accepted the null instead of rejecting it\n",
    "\n"
   ]
  },
  {
   "cell_type": "markdown",
   "metadata": {},
   "source": [
    "    Is the website redesign any good?\n",
    "\n",
    "    has there been an increase in traffic to the redesigned website or decreased traffic\n",
    "\n",
    "    h0 = redesigned_site_visitation > old_site\n",
    "    ha = redesigned_site_visitation <= old_site\n",
    "\n",
    "    True Positive ==> the website has received more traffic to it than the previous one so we accept the null \n",
    "    True Negative ==> the old site received more traffic to the new site so we reject the null\n",
    "    type I ==> the new site recieved more traffic than the old one, but we rejected the null and accepted the alternative\n",
    "    type II ==> the new site did not receive more traffic than the old one but we accepted the null and rejected the alternative\n"
   ]
  },
  {
   "cell_type": "markdown",
   "metadata": {},
   "source": [
    "    Is our television ad driving more sales?\n",
    "\n",
    "    h0 = new_sales <= old_sales\n",
    "    ha = new_sales > old_sales\n",
    "\n",
    "    True Positive ==> is that new sales is not making more than the old sales and so we rejected the null\n",
    "    True Negative ==> is that the new sales were less than the old sales so we accepted the null\n",
    "    type I ==> the new sales were less than the old sales but we rejected the null\n",
    "    type II ==> the sales were greater than the old sales but we accepted the null\n"
   ]
  }
 ],
 "metadata": {
  "kernelspec": {
   "display_name": "base",
   "language": "python",
   "name": "python3"
  },
  "language_info": {
   "name": "python",
   "version": "3.11.3"
  },
  "orig_nbformat": 4
 },
 "nbformat": 4,
 "nbformat_minor": 2
}
